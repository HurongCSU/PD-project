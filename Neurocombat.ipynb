{
  "nbformat": 4,
  "nbformat_minor": 0,
  "metadata": {
    "colab": {
      "provenance": []
    },
    "kernelspec": {
      "name": "python3",
      "display_name": "Python 3"
    },
    "language_info": {
      "name": "python"
    }
  },
  "cells": [
    {
      "cell_type": "markdown",
      "metadata": {
        "id": "2ZBbdFLxWvEw"
      },
      "source": [
        "# PD Neurocombat\n"
      ]
    },
    {
      "cell_type": "code",
      "execution_count": null,
      "metadata": {
        "colab": {
          "base_uri": "https://localhost:8080/"
        },
        "id": "bWltX98fW5HO",
        "outputId": "595ff8f5-1649-4999-bb27-bf0a3a289c79"
      },
      "outputs": [
        {
          "name": "stdout",
          "output_type": "stream",
          "text": [
            "Looking in indexes: https://pypi.org/simple, https://us-python.pkg.dev/colab-wheels/public/simple/\n",
            "Collecting neuroCombat\n",
            "  Downloading neuroCombat-0.2.12.tar.gz (6.2 kB)\n",
            "Building wheels for collected packages: neuroCombat\n",
            "  Building wheel for neuroCombat (setup.py) ... \u001b[?25l\u001b[?25hdone\n",
            "  Created wheel for neuroCombat: filename=neuroCombat-0.2.12-py3-none-any.whl size=6370 sha256=2fc0d8f7e3778010a2978dd40e39fec5e81bb74c61e63904cf3e7d7b060445f9\n",
            "  Stored in directory: /root/.cache/pip/wheels/b6/3b/fd/bfb07ac7d62a592499a9968468433cb5912eed2f1e96103f11\n",
            "Successfully built neuroCombat\n",
            "Installing collected packages: neuroCombat\n",
            "Successfully installed neuroCombat-0.2.12\n"
          ]
        }
      ],
      "source": [
        "!pip install neuroCombat\n",
        "from neuroCombat import neuroCombat\n",
        "import pandas as pd\n",
        "import numpy as np"
      ]
    },
    {
      "cell_type": "code",
      "execution_count": null,
      "metadata": {
        "id": "WDlLOCnjZmTl"
      },
      "outputs": [],
      "source": [
        "data_df_pet5 = pd.read_csv('pet5.csv')\n",
        "data_df_pet6 = pd.read_csv('pet6.csv')\n",
        "data_df_pet11 = pd.read_csv('pet11.csv')\n",
        "data_df_pet16 = pd.read_csv('pet16.csv')\n",
        "data_df_pet17 = pd.read_csv('pet17.csv')\n",
        "data_df_pet21 = pd.read_csv('pet21.csv')\n",
        "data_df_t1 = pd.read_csv('t1_original.csv')\n",
        "data_df_t2 = pd.read_csv('t2_original.csv')"
      ]
    },
    {
      "cell_type": "code",
      "execution_count": null,
      "metadata": {
        "id": "tRzwMOgpDjWK"
      },
      "outputs": [],
      "source": [
        "def neuroCombat(dat,\n",
        "           covars,\n",
        "           batch_col,\n",
        "           categorical_cols=None,\n",
        "           continuous_cols=None,\n",
        "           eb=False, \n",
        "           parametric=True, #trying\n",
        "           mean_only=False,\n",
        "           ref_batch=None):"
      ]
    },
    {
      "cell_type": "code",
      "execution_count": null,
      "metadata": {
        "id": "-U6_-pBwyuCS"
      },
      "outputs": [],
      "source": [
        "def combat(df, batch_col = 'Institution'):\n",
        "  df_dropped = df.apply(lambda x: pd.to_numeric(x, errors='coerce')).dropna(axis='columns')\n",
        "  covars = df[[batch_col]]\n",
        "  batch_col = batch_col\n",
        "  data_combat = neuroCombat(dat=df_dropped.T,\n",
        "    covars=covars,\n",
        "    batch_col=batch_col,\n",
        "    parametric=False)\n",
        "  df_combat = pd.DataFrame(data_combat[\"data\"].T, index=df_dropped.index, columns=df_dropped.columns)\n",
        "  df.update(df_combat,overwrite=True)"
      ]
    },
    {
      "cell_type": "code",
      "execution_count": null,
      "metadata": {
        "colab": {
          "base_uri": "https://localhost:8080/"
        },
        "id": "wxN1izj4bJ_f",
        "outputId": "458cd4d0-a053-4555-864f-bce6ca84d745"
      },
      "outputs": [
        {
          "name": "stdout",
          "output_type": "stream",
          "text": [
            "[neuroCombat] Creating design matrix\n",
            "[neuroCombat] Standardizing data across features\n",
            "[neuroCombat] Fitting L/S model and finding priors\n",
            "[neuroCombat] Finding non-parametric adjustments\n"
          ]
        },
        {
          "name": "stderr",
          "output_type": "stream",
          "text": [
            "/usr/local/lib/python3.8/dist-packages/neuroCombat/neuroCombat.py:352: RuntimeWarning: overflow encountered in multiply\n",
            "  gamma_star.append(sum(g*LH)/sum(LH))\n"
          ]
        },
        {
          "name": "stdout",
          "output_type": "stream",
          "text": [
            "[neuroCombat] Final adjustment of data\n",
            "[neuroCombat] Creating design matrix\n",
            "[neuroCombat] Standardizing data across features\n",
            "[neuroCombat] Fitting L/S model and finding priors\n",
            "[neuroCombat] Finding non-parametric adjustments\n",
            "[neuroCombat] Final adjustment of data\n",
            "[neuroCombat] Creating design matrix\n",
            "[neuroCombat] Standardizing data across features\n",
            "[neuroCombat] Fitting L/S model and finding priors\n",
            "[neuroCombat] Finding non-parametric adjustments\n",
            "[neuroCombat] Final adjustment of data\n",
            "[neuroCombat] Creating design matrix\n",
            "[neuroCombat] Standardizing data across features\n",
            "[neuroCombat] Fitting L/S model and finding priors\n",
            "[neuroCombat] Finding non-parametric adjustments\n",
            "[neuroCombat] Final adjustment of data\n",
            "[neuroCombat] Creating design matrix\n",
            "[neuroCombat] Standardizing data across features\n",
            "[neuroCombat] Fitting L/S model and finding priors\n",
            "[neuroCombat] Finding non-parametric adjustments\n",
            "[neuroCombat] Final adjustment of data\n",
            "[neuroCombat] Creating design matrix\n",
            "[neuroCombat] Standardizing data across features\n",
            "[neuroCombat] Fitting L/S model and finding priors\n",
            "[neuroCombat] Finding non-parametric adjustments\n",
            "[neuroCombat] Final adjustment of data\n",
            "[neuroCombat] Creating design matrix\n",
            "[neuroCombat] Standardizing data across features\n",
            "[neuroCombat] Fitting L/S model and finding priors\n",
            "[neuroCombat] Finding non-parametric adjustments\n"
          ]
        },
        {
          "name": "stderr",
          "output_type": "stream",
          "text": [
            "/usr/local/lib/python3.8/dist-packages/neuroCombat/neuroCombat.py:350: RuntimeWarning: overflow encountered in true_divide\n",
            "  LH = 1/(2*math.pi*d)**(n/2)*np.exp(-sum2/(2*d))\n"
          ]
        },
        {
          "name": "stdout",
          "output_type": "stream",
          "text": [
            "[neuroCombat] Final adjustment of data\n",
            "[neuroCombat] Creating design matrix\n",
            "[neuroCombat] Standardizing data across features\n",
            "[neuroCombat] Fitting L/S model and finding priors\n",
            "[neuroCombat] Finding non-parametric adjustments\n",
            "[neuroCombat] Final adjustment of data\n"
          ]
        }
      ],
      "source": [
        "names = ['pet5_combat.csv','pet6_combat.csv','pet11_combat.csv','pet16_combat.csv','pet17_combat.csv','pet21_combat.csv','t1_combat.csv','t2_combat.csv']\n",
        "i = 0\n",
        "for df in [data_df_pet5,data_df_pet6, data_df_pet11, data_df_pet16, data_df_pet17, data_df_pet21, data_df_t1, data_df_t2]:\n",
        "  combat(df, batch_col = 'Institution')\n",
        "  df.to_csv(names[i])\n",
        "  i += 1"
      ]
    }
  ]
}